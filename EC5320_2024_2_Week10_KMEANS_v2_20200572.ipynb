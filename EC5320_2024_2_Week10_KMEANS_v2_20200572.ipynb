{
  "nbformat": 4,
  "nbformat_minor": 0,
  "metadata": {
    "colab": {
      "provenance": [],
      "collapsed_sections": [
        "0FKeV4s1a0dr",
        "6huzPJOVa6jt",
        "-ok4yEyYbCCC",
        "S61RFbGRaDSf",
        "lvwOeqF2X7u2",
        "za3liQecc1ss"
      ],
      "include_colab_link": true
    },
    "kernelspec": {
      "name": "python3",
      "display_name": "Python 3"
    },
    "language_info": {
      "name": "python"
    }
  },
  "cells": [
    {
      "cell_type": "markdown",
      "metadata": {
        "id": "view-in-github",
        "colab_type": "text"
      },
      "source": [
        "<a href=\"https://colab.research.google.com/github/sangho24/sogang/blob/main/EC5320_2024_2_Week10_KMEANS_v2_20200572.ipynb\" target=\"_parent\"><img src=\"https://colab.research.google.com/assets/colab-badge.svg\" alt=\"Open In Colab\"/></a>"
      ]
    },
    {
      "cell_type": "markdown",
      "source": [
        "#EC5320 Week10 codes: K-Means to group colors from an image\n",
        "\n",
        "2024.11.3.<br>\n",
        "\n",
        "Author: Hyunjoo Yang (hyang@sogang.ac.kr)<br><br>\n",
        "\n",
        "This notebook uses Scikit Learn's K-means algorithms.<br><br>\n",
        "\n",
        "Data source:<br>\n",
        "ESA's sentinel 2 satellite images in 2020 <br><br>\n",
        "\n",
        "Codes are from a paper by Jeong and Yang:<br>\n",
        "https://www.researchgate.net/publication/357418184_Using_maps_to_predict_economic_activity <br><br>\n",
        "\n",
        "For information on K-Means, refer to:<br>\n",
        "https://scikit-learn.org/stable/modules/clustering.html <br><br>\n",
        "\n",
        "Watch the iteration process of K-Means:<br>\n",
        "https://www.youtube.com/watch?v=5I3Ei69I40s"
      ],
      "metadata": {
        "id": "vKg_LSMkgT5d"
      }
    },
    {
      "cell_type": "markdown",
      "source": [
        "# 1. Upload files"
      ],
      "metadata": {
        "id": "0FKeV4s1a0dr"
      }
    },
    {
      "cell_type": "code",
      "source": [
        "# image zipfile name\n",
        "fn = 'clipped_127_37.zip'\n",
        "\n",
        "# dropbox local save folder name\n",
        "dir_nm = './pop_data'"
      ],
      "metadata": {
        "id": "MDG5yBo_xV7o"
      },
      "execution_count": null,
      "outputs": []
    },
    {
      "cell_type": "code",
      "source": [
        "!unzip {fn} -d {dir_nm}"
      ],
      "metadata": {
        "id": "wx3lCDjAs7x9"
      },
      "execution_count": null,
      "outputs": []
    },
    {
      "cell_type": "code",
      "source": [
        "!ls pop_data"
      ],
      "metadata": {
        "id": "DGJdAHNe89_6"
      },
      "execution_count": null,
      "outputs": []
    },
    {
      "cell_type": "markdown",
      "source": [
        "# 2. Prepare file paths and ground truth"
      ],
      "metadata": {
        "id": "6huzPJOVa6jt"
      }
    },
    {
      "cell_type": "code",
      "source": [
        "import glob\n",
        "\n",
        "# grab image file list\n",
        "\n",
        "img_list = glob.glob(dir_nm + '/*.png')\n",
        "img_list[0:5]"
      ],
      "metadata": {
        "id": "I1ZdHrmiuKi5"
      },
      "execution_count": null,
      "outputs": []
    },
    {
      "cell_type": "code",
      "source": [
        "import os\n",
        "\n",
        "# test extracting id from an image\n",
        "os.path.splitext(os.path.basename(img_list[1]))[0]"
      ],
      "metadata": {
        "id": "RDlNUflUx5U7"
      },
      "execution_count": null,
      "outputs": []
    },
    {
      "cell_type": "code",
      "source": [
        "# generate a list of ids\n",
        "\n",
        "file_gid = list(map(lambda x:os.path.splitext(os.path.basename(x))[0], img_list))\n",
        "file_gid[0:5]"
      ],
      "metadata": {
        "id": "SYmV700QuKlW"
      },
      "execution_count": null,
      "outputs": []
    },
    {
      "cell_type": "code",
      "source": [
        "import pandas as pd\n",
        "\n",
        "# combine file path and gid\n",
        "\n",
        "df_img = pd.DataFrame(list(zip(img_list, file_gid)), columns=['img_path', 'gid'])\n",
        "df_img"
      ],
      "metadata": {
        "id": "8FwFvC57uKn_"
      },
      "execution_count": null,
      "outputs": []
    },
    {
      "cell_type": "code",
      "source": [
        "df_img.dtypes"
      ],
      "metadata": {
        "id": "QT8v3cGBxKk1"
      },
      "execution_count": null,
      "outputs": []
    },
    {
      "cell_type": "markdown",
      "source": [
        "# 3. Read an image as tabular data (R, G, B)"
      ],
      "metadata": {
        "id": "-ok4yEyYbCCC"
      }
    },
    {
      "cell_type": "code",
      "source": [
        "# show a sample image\n",
        "\n",
        "import cv2\n",
        "from google.colab.patches import cv2_imshow\n",
        "\n",
        "img_sample_path = img_list[1]\n",
        "\n",
        "img_to_show = cv2.imread(img_sample_path)\n",
        "cv2_imshow(img_to_show)"
      ],
      "metadata": {
        "id": "ZaJUabYpM1Y_"
      },
      "execution_count": null,
      "outputs": []
    },
    {
      "cell_type": "code",
      "source": [
        "# read image as array\n",
        "\n",
        "#img_array = cv2.imread(img_sample_path, cv2.IMREAD_UNCHANGED)\n",
        "img_array = cv2.cvtColor(cv2.imread(img_sample_path), cv2.COLOR_BGR2RGB)\n",
        "img_array"
      ],
      "metadata": {
        "id": "wlDXd0rMLFEW"
      },
      "execution_count": null,
      "outputs": []
    },
    {
      "cell_type": "code",
      "source": [
        "img_array.shape"
      ],
      "metadata": {
        "id": "Ymmz3qI7L6GU"
      },
      "execution_count": null,
      "outputs": []
    },
    {
      "cell_type": "code",
      "source": [
        "# reshape image (row x column -> long column)\n",
        "\n",
        "image_tot_rows = img_array.shape[0]*img_array.shape[1]\n",
        "img_array_reshaped = img_array.reshape(image_tot_rows, 3)"
      ],
      "metadata": {
        "id": "RYbPZCSzLE_b"
      },
      "execution_count": null,
      "outputs": []
    },
    {
      "cell_type": "code",
      "source": [
        "img_array_reshaped.shape"
      ],
      "metadata": {
        "id": "7WPCdH2WLE9K"
      },
      "execution_count": null,
      "outputs": []
    },
    {
      "cell_type": "code",
      "source": [
        "# convert to a pandas dataframe\n",
        "\n",
        "df_img_raw = pd.DataFrame(img_array_reshaped, columns = ['r','g','b'])\n",
        "df_img_raw"
      ],
      "metadata": {
        "id": "VdHYQFH8LE6q"
      },
      "execution_count": null,
      "outputs": []
    },
    {
      "cell_type": "code",
      "source": [
        "# scale RGB values by 255\n",
        "\n",
        "img_array_scaled = img_array_reshaped/255.0\n",
        "df_img = pd.DataFrame(img_array_scaled, columns = ['r','g','b'])\n",
        "df_img"
      ],
      "metadata": {
        "id": "86_-yBWOQ7WY"
      },
      "execution_count": null,
      "outputs": []
    },
    {
      "cell_type": "markdown",
      "source": [
        "# 4. K-means to cluster images"
      ],
      "metadata": {
        "id": "S61RFbGRaDSf"
      }
    },
    {
      "cell_type": "code",
      "source": [
        "k = 20\n",
        "n_init=30\n",
        "max_iter=300\n",
        "my_seed = 42"
      ],
      "metadata": {
        "id": "1zbHRmDOaFWs"
      },
      "execution_count": null,
      "outputs": []
    },
    {
      "cell_type": "markdown",
      "source": [
        "## 4.1 K-Means using Scikit Learn"
      ],
      "metadata": {
        "id": "L5AJOj6SOij8"
      }
    },
    {
      "cell_type": "code",
      "source": [
        "%%time\n",
        "\n",
        "from sklearn.cluster import KMeans\n",
        "\n",
        "kmeans_sk = KMeans(\n",
        "    n_clusters=k, init='random',\n",
        "    n_init=n_init, max_iter=max_iter,\n",
        "    random_state=my_seed\n",
        ")\n",
        "\n",
        "kmeans_sk.fit(df_img)\n",
        "\n",
        "colors_sk = kmeans_sk.predict(df_img)"
      ],
      "metadata": {
        "id": "Dy_uwszKPFK-"
      },
      "execution_count": null,
      "outputs": []
    },
    {
      "cell_type": "code",
      "source": [
        "colors_sk"
      ],
      "metadata": {
        "id": "zR_yze8ZQTJG"
      },
      "execution_count": null,
      "outputs": []
    },
    {
      "cell_type": "code",
      "source": [
        "colors_sk.shape"
      ],
      "metadata": {
        "id": "erPaNuIqQORH"
      },
      "execution_count": null,
      "outputs": []
    },
    {
      "cell_type": "code",
      "source": [
        "centroids_sk  = kmeans_sk.cluster_centers_\n",
        "centroids_sk"
      ],
      "metadata": {
        "id": "6F6eaeqqQUyl"
      },
      "execution_count": null,
      "outputs": []
    },
    {
      "cell_type": "code",
      "source": [
        "import numpy as np\n",
        "import matplotlib.pyplot as plt\n",
        "\n",
        "# show centroid colors\n",
        "\n",
        "palette = np.array(list(map(tuple, centroids_sk)))[np.newaxis, :, :]\n",
        "\n",
        "fig, axes = plt.subplots(1,1,figsize=(8,2))\n",
        "\n",
        "axes.imshow(palette);"
      ],
      "metadata": {
        "id": "FfCUeC7nLEyr"
      },
      "execution_count": null,
      "outputs": []
    },
    {
      "cell_type": "code",
      "source": [
        "# save color groups\n",
        "\n",
        "df_y_sk = pd.Series(np.squeeze(colors_sk), name='kmeans')\n",
        "df_y_sk.value_counts(normalize=True)"
      ],
      "metadata": {
        "id": "-6xn2EAWXcYE"
      },
      "execution_count": null,
      "outputs": []
    },
    {
      "cell_type": "markdown",
      "source": [
        "## 4.2 Mini Batch KMeans using Scikit Learn"
      ],
      "metadata": {
        "id": "r_cwu50UVwLi"
      }
    },
    {
      "cell_type": "code",
      "source": [
        "%%time\n",
        "\n",
        "from sklearn.cluster import MiniBatchKMeans\n",
        "\n",
        "kmeans_mini = MiniBatchKMeans(\n",
        "    n_clusters=k, init='random',\n",
        "    n_init=n_init, max_iter=max_iter,\n",
        "    random_state=my_seed\n",
        ")\n",
        "\n",
        "kmeans_mini.fit(df_img)\n",
        "\n",
        "colors_mini = kmeans_mini.predict(df_img)"
      ],
      "metadata": {
        "id": "PE-nqaTCWAvW"
      },
      "execution_count": null,
      "outputs": []
    },
    {
      "cell_type": "code",
      "source": [
        "colors_mini"
      ],
      "metadata": {
        "id": "qXo8Cw7yWAvW"
      },
      "execution_count": null,
      "outputs": []
    },
    {
      "cell_type": "code",
      "source": [
        "colors_mini.shape"
      ],
      "metadata": {
        "id": "hPa5tONhWAvW"
      },
      "execution_count": null,
      "outputs": []
    },
    {
      "cell_type": "code",
      "source": [
        "centroids_mini  = kmeans_mini.cluster_centers_\n",
        "centroids_mini"
      ],
      "metadata": {
        "id": "Al5CxtfkWAvW"
      },
      "execution_count": null,
      "outputs": []
    },
    {
      "cell_type": "code",
      "source": [
        "import matplotlib.pyplot as plt\n",
        "\n",
        "# show centroid colors\n",
        "\n",
        "palette = np.array(list(map(tuple, centroids_mini)))[np.newaxis, :, :]\n",
        "\n",
        "fig, axes = plt.subplots(1,1,figsize=(8,2))\n",
        "\n",
        "axes.imshow(palette)"
      ],
      "metadata": {
        "id": "nIbbVhOxWAvX"
      },
      "execution_count": null,
      "outputs": []
    },
    {
      "cell_type": "code",
      "source": [
        "# save color groups\n",
        "\n",
        "df_y_mini = pd.Series(np.squeeze(colors_mini), name='mini batch')\n",
        "df_y_mini.value_counts(normalize=True)"
      ],
      "metadata": {
        "id": "MTSmBEejXueQ"
      },
      "execution_count": null,
      "outputs": []
    },
    {
      "cell_type": "markdown",
      "source": [
        "# 5. Compare results"
      ],
      "metadata": {
        "id": "lvwOeqF2X7u2"
      }
    },
    {
      "cell_type": "code",
      "source": [
        "# concat df together\n",
        "\n",
        "df_final = pd.concat([df_img_raw, df_y_sk, df_y_mini], axis=1)\n",
        "df_final"
      ],
      "metadata": {
        "id": "3RiKO9OdX5y1"
      },
      "execution_count": null,
      "outputs": []
    },
    {
      "cell_type": "markdown",
      "source": [
        "# 6. Show clustered images"
      ],
      "metadata": {
        "id": "za3liQecc1ss"
      }
    },
    {
      "cell_type": "code",
      "source": [
        "X_sk_seg = y_sk_centroids_conv_to_rgb[colors_sk].reshape(img_to_show.shape) # actual RGB vals -> centroid vals\n",
        "X_mini_seg = y_mini_centroids_conv_to_rgb[colors_mini].reshape(img_to_show.shape) # actual RGB vals -> centroid vals"
      ],
      "metadata": {
        "id": "EPySWdUzeAwx"
      },
      "execution_count": null,
      "outputs": []
    },
    {
      "cell_type": "code",
      "source": [
        "plt.rcParams['figure.figsize'] = [14, 14]\n",
        "img_to_show = cv2.cvtColor(cv2.imread(img_sample_path), cv2.COLOR_BGR2RGB)\n",
        "\n",
        "plt.subplot(2, 2, 1)                # Actual\n",
        "plt.imshow(img_to_show)\n",
        "plt.title('ACTUAL')\n",
        "\n",
        "plt.subplot(2, 2, 2)                # Kmeans\n",
        "plt.imshow(X_sk_seg)\n",
        "plt.title('Kmeans')\n",
        "\n",
        "plt.subplot(2, 2, 3)                # Mini Batch\n",
        "plt.imshow(X_mini_seg)\n",
        "plt.title('Mini Batch')\n",
        "\n",
        "\n",
        "plt.tight_layout()\n",
        "plt.show();"
      ],
      "metadata": {
        "id": "HCpl4GSvc81X"
      },
      "execution_count": null,
      "outputs": []
    }
  ]
}